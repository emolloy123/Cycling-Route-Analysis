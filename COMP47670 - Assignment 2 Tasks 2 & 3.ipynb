{
 "cells": [
  {
   "cell_type": "markdown",
   "id": "d729ade4",
   "metadata": {},
   "source": [
    "# COMP 47670 Assignment 2 Tasks 2 & 3"
   ]
  },
  {
   "cell_type": "markdown",
   "id": "6722730f",
   "metadata": {},
   "source": [
    "Load librarys and packages"
   ]
  },
  {
   "cell_type": "code",
   "execution_count": 1,
   "id": "cc5a934d",
   "metadata": {},
   "outputs": [],
   "source": [
    "import json\n",
    "import ast\n",
    "import os\n",
    "from pathlib import Path\n",
    "import pandas as pd\n",
    "import matplotlib\n",
    "import matplotlib.gridspec as gridspec\n",
    "import matplotlib.pyplot as plt\n",
    "import numpy as np\n",
    "%matplotlib inline\n",
    "import plotly.express as px\n",
    "from pandas.plotting import scatter_matrix\n",
    "import gpxpy\n",
    "import requests, urllib\n",
    "import urllib.request\n",
    "from math import radians, cos, sin, asin, sqrt,ceil\n",
    "\n",
    "\n",
    "import gpxpy.gpx\n",
    "import collections\n"
   ]
  },
  {
   "cell_type": "markdown",
   "id": "81b8f483",
   "metadata": {},
   "source": [
    "Assign raw directory to variable name"
   ]
  },
  {
   "cell_type": "code",
   "execution_count": 2,
   "id": "faa75700",
   "metadata": {},
   "outputs": [],
   "source": [
    "dir_raw = Path(\"raw\")\n",
    "dir_raw.mkdir(parents=True, exist_ok=True)\n"
   ]
  },
  {
   "cell_type": "markdown",
   "id": "af14af69",
   "metadata": {},
   "source": [
    "## Task 2"
   ]
  },
  {
   "cell_type": "markdown",
   "id": "73e2c4ef",
   "metadata": {},
   "source": [
    "### 1. Load and parse GPX Data to Notebook"
   ]
  },
  {
   "cell_type": "markdown",
   "id": "1d4fb9ec",
   "metadata": {},
   "source": [
    "Download json file of route names and corresponding keys"
   ]
  },
  {
   "cell_type": "code",
   "execution_count": 3,
   "id": "49e3e9b8",
   "metadata": {},
   "outputs": [],
   "source": [
    "f = open('route_names.json','r')\n",
    "route_names = json.load(f)"
   ]
  },
  {
   "cell_type": "code",
   "execution_count": 4,
   "id": "7b4fc8f8",
   "metadata": {},
   "outputs": [
    {
     "data": {
      "text/plain": [
       "{'ev1': '1. Atlantic Coast Route',\n",
       " 'ev2': '2. Capitals Route',\n",
       " 'ev3': '3. Pilgrims Route',\n",
       " 'ev4': '4. Central Europe Route',\n",
       " 'ev5': '5. Via Romea (Francigena)',\n",
       " 'ev6': '6. Atlantic – Black Sea',\n",
       " 'ev7': '7. Sun Route',\n",
       " 'ev8': '8. Mediterranean Route',\n",
       " 'ev9': '9. Baltic – Adriatic',\n",
       " 'ev10': '10. Baltic Sea Cycle Route',\n",
       " 'ev11': '11. East Europe Route',\n",
       " 'ev12': '12. North Sea Cycle Route',\n",
       " 'ev13': '13. Iron Curtain Trail',\n",
       " 'ev14': '14. Waters of Central Europe',\n",
       " 'ev15': '15. Rhine Cycle Route',\n",
       " 'ev17': '17. Rhone Cycle Route',\n",
       " 'ev19': '19. Meuse Cycle Route'}"
      ]
     },
     "execution_count": 4,
     "metadata": {},
     "output_type": "execute_result"
    }
   ],
   "source": [
    "route_names"
   ]
  },
  {
   "cell_type": "markdown",
   "id": "795a5953",
   "metadata": {},
   "source": [
    "#### Function that parses a given route into a multi-indexed dataframe of stages and points"
   ]
  },
  {
   "cell_type": "code",
   "execution_count": 5,
   "id": "7421222c",
   "metadata": {},
   "outputs": [],
   "source": [
    "def parse_gpx(gpx_file):\n",
    "     with open(gpx_file) as f:\n",
    "        gpx = gpxpy.parse(f)\n",
    "        stage_count = 0\n",
    "        #initialise nested dictionary\n",
    "        data = collections.defaultdict(lambda : collections.defaultdict(dict))\n",
    "        \n",
    "        for track in gpx.tracks: \n",
    "            for segment in track.segments: \n",
    "                stage_count+=1\n",
    "                stage_name = track.name\n",
    "                point_count = 0\n",
    "                \n",
    "                for point in segment.points: \n",
    "                    \n",
    "                    point_count+=1\n",
    "                    data[stage_count][point_count]['name'] = stage_name\n",
    "                    data[stage_count][point_count]['longitude'] = point.longitude\n",
    "                    data[stage_count][point_count]['latitude'] = point.latitude\n",
    "                    data[stage_count][point_count]['elevation'] = point.elevation\n",
    "        df = pd.DataFrame.from_dict({(i,j): data[i][j] \n",
    "                           for i in data.keys() \n",
    "                           for j in data[i].keys()},\n",
    "                       orient='index')\n",
    "\n",
    "        return df\n"
   ]
  },
  {
   "cell_type": "markdown",
   "id": "534db630",
   "metadata": {},
   "source": [
    "Call this function for all routes"
   ]
  },
  {
   "cell_type": "code",
   "execution_count": 6,
   "id": "ce4a47df",
   "metadata": {},
   "outputs": [],
   "source": [
    "df_routes = {}\n",
    "for route in route_names.keys():\n",
    "    fname = \"%s.gpx\" % route\n",
    "    in_path = dir_raw / fname \n",
    "    \n",
    "    df_routes[route] = parse_gpx(in_path)"
   ]
  },
  {
   "cell_type": "code",
   "execution_count": 7,
   "id": "23d060d7",
   "metadata": {},
   "outputs": [
    {
     "data": {
      "text/html": [
       "<div>\n",
       "<style scoped>\n",
       "    .dataframe tbody tr th:only-of-type {\n",
       "        vertical-align: middle;\n",
       "    }\n",
       "\n",
       "    .dataframe tbody tr th {\n",
       "        vertical-align: top;\n",
       "    }\n",
       "\n",
       "    .dataframe thead th {\n",
       "        text-align: right;\n",
       "    }\n",
       "</style>\n",
       "<table border=\"1\" class=\"dataframe\">\n",
       "  <thead>\n",
       "    <tr style=\"text-align: right;\">\n",
       "      <th></th>\n",
       "      <th></th>\n",
       "      <th>name</th>\n",
       "      <th>longitude</th>\n",
       "      <th>latitude</th>\n",
       "      <th>elevation</th>\n",
       "    </tr>\n",
       "  </thead>\n",
       "  <tbody>\n",
       "    <tr>\n",
       "      <th rowspan=\"10\" valign=\"top\">1</th>\n",
       "      <th>1</th>\n",
       "      <td>01: Athlone – Kinnegad (Developed)</td>\n",
       "      <td>-7.93223</td>\n",
       "      <td>53.42805</td>\n",
       "      <td>44.5</td>\n",
       "    </tr>\n",
       "    <tr>\n",
       "      <th>2</th>\n",
       "      <td>01: Athlone – Kinnegad (Developed)</td>\n",
       "      <td>-7.84337</td>\n",
       "      <td>53.41228</td>\n",
       "      <td>62.9</td>\n",
       "    </tr>\n",
       "    <tr>\n",
       "      <th>3</th>\n",
       "      <td>01: Athlone – Kinnegad (Developed)</td>\n",
       "      <td>-7.82461</td>\n",
       "      <td>53.40430</td>\n",
       "      <td>75.7</td>\n",
       "    </tr>\n",
       "    <tr>\n",
       "      <th>4</th>\n",
       "      <td>01: Athlone – Kinnegad (Developed)</td>\n",
       "      <td>-7.81285</td>\n",
       "      <td>53.40168</td>\n",
       "      <td>76.9</td>\n",
       "    </tr>\n",
       "    <tr>\n",
       "      <th>5</th>\n",
       "      <td>01: Athlone – Kinnegad (Developed)</td>\n",
       "      <td>-7.75589</td>\n",
       "      <td>53.39734</td>\n",
       "      <td>87.0</td>\n",
       "    </tr>\n",
       "    <tr>\n",
       "      <th>6</th>\n",
       "      <td>01: Athlone – Kinnegad (Developed)</td>\n",
       "      <td>-7.69808</td>\n",
       "      <td>53.40149</td>\n",
       "      <td>87.4</td>\n",
       "    </tr>\n",
       "    <tr>\n",
       "      <th>7</th>\n",
       "      <td>01: Athlone – Kinnegad (Developed)</td>\n",
       "      <td>-7.58309</td>\n",
       "      <td>53.43103</td>\n",
       "      <td>93.3</td>\n",
       "    </tr>\n",
       "    <tr>\n",
       "      <th>8</th>\n",
       "      <td>01: Athlone – Kinnegad (Developed)</td>\n",
       "      <td>-7.54315</td>\n",
       "      <td>53.44477</td>\n",
       "      <td>113.0</td>\n",
       "    </tr>\n",
       "    <tr>\n",
       "      <th>9</th>\n",
       "      <td>01: Athlone – Kinnegad (Developed)</td>\n",
       "      <td>-7.42665</td>\n",
       "      <td>53.50490</td>\n",
       "      <td>95.7</td>\n",
       "    </tr>\n",
       "    <tr>\n",
       "      <th>10</th>\n",
       "      <td>01: Athlone – Kinnegad (Developed)</td>\n",
       "      <td>-7.41763</td>\n",
       "      <td>53.50704</td>\n",
       "      <td>94.5</td>\n",
       "    </tr>\n",
       "  </tbody>\n",
       "</table>\n",
       "</div>"
      ],
      "text/plain": [
       "                                    name  longitude  latitude  elevation\n",
       "1 1   01: Athlone – Kinnegad (Developed)   -7.93223  53.42805       44.5\n",
       "  2   01: Athlone – Kinnegad (Developed)   -7.84337  53.41228       62.9\n",
       "  3   01: Athlone – Kinnegad (Developed)   -7.82461  53.40430       75.7\n",
       "  4   01: Athlone – Kinnegad (Developed)   -7.81285  53.40168       76.9\n",
       "  5   01: Athlone – Kinnegad (Developed)   -7.75589  53.39734       87.0\n",
       "  6   01: Athlone – Kinnegad (Developed)   -7.69808  53.40149       87.4\n",
       "  7   01: Athlone – Kinnegad (Developed)   -7.58309  53.43103       93.3\n",
       "  8   01: Athlone – Kinnegad (Developed)   -7.54315  53.44477      113.0\n",
       "  9   01: Athlone – Kinnegad (Developed)   -7.42665  53.50490       95.7\n",
       "  10  01: Athlone – Kinnegad (Developed)   -7.41763  53.50704       94.5"
      ]
     },
     "execution_count": 7,
     "metadata": {},
     "output_type": "execute_result"
    }
   ],
   "source": [
    "df_routes['ev2'].head(10)"
   ]
  },
  {
   "cell_type": "markdown",
   "id": "d209b4a4",
   "metadata": {},
   "source": [
    "### 2. Build dataframe of summary statistics for each stage in a given route"
   ]
  },
  {
   "cell_type": "markdown",
   "id": "81233505",
   "metadata": {},
   "source": [
    "Define function that calculates haversine distance given 2 points on earth described by their latitude and longitude: formula reference https://community.esri.com/t5/coordinate-reference-systems-blog/distance-on-a-sphere-the-haversine-formula/ba-p/902128#:~:text=For%20example%2C%20haversine(%CE%B8),longitude%20of%20the%20two%20points.\n"
   ]
  },
  {
   "cell_type": "code",
   "execution_count": 8,
   "id": "001700d6",
   "metadata": {},
   "outputs": [],
   "source": [
    "def haversine_distance(lat1, lat2, lon1, lon2):\n",
    "     \n",
    "    # The math module contains a function named\n",
    "    # radians which converts from degrees to radians.\n",
    "    lon1 = radians(lon1)\n",
    "    lon2 = radians(lon2)\n",
    "    lat1 = radians(lat1)\n",
    "    lat2 = radians(lat2)\n",
    "      \n",
    "    # Haversine formula\n",
    "    dlon = lon2 - lon1\n",
    "    dlat = lat2 - lat1\n",
    "    a = sin(dlat / 2)**2 + cos(lat1) * cos(lat2) * sin(dlon / 2)**2\n",
    " \n",
    "    c = 2 * asin(sqrt(a))\n",
    "    \n",
    "    # Radius of earth in kilometers\n",
    "    r = 6371\n",
    "      \n",
    "    # calculate the result\n",
    "    return(c * r)\n",
    "     "
   ]
  },
  {
   "cell_type": "markdown",
   "id": "25518ca1",
   "metadata": {},
   "source": [
    "For a given route calculate the total distance between each point, and sum the points in the same stage to get the same distnace. This distance is found using the Haversine formula. Also insert the total uphill and downhill between each stage. "
   ]
  },
  {
   "cell_type": "code",
   "execution_count": 9,
   "id": "4d65ed74",
   "metadata": {},
   "outputs": [],
   "source": [
    "def summarise_route(df_route):\n",
    "    #Remove secondary index relating to each point. Point only indexed by correponding stage\n",
    "    df_route.index = df_route.index.get_level_values(0)\n",
    "    rows = []\n",
    "    for stage_index in range(1,df_route.index.nunique()+1):\n",
    "        df_stage = df_route.loc[df_route.index==stage_index]\n",
    "        stage_name = str(df_stage['name']).split(':')[1].split('(')[0]\n",
    "        stage_distance = 0\n",
    "        uphill = 0\n",
    "        downhill = 0\n",
    "        for point_index, point in enumerate(df_stage.iterrows()): \n",
    "            x1 = point[1]['longitude']\n",
    "            y1 = point[1]['latitude']\n",
    "            z1 = point[1]['elevation']\n",
    "            p1 = np.array([x1,y1])\n",
    "            if (point_index < len(df_stage)-1):\n",
    "                x2 = df_stage.iloc[point_index+1]['longitude']\n",
    "                y2 = df_stage.iloc[point_index+1]['latitude']\n",
    "                z2 =  df_stage.iloc[point_index+1]['elevation']\n",
    "                p2 = np.array([x2,y2])\n",
    "                stage_distance += haversine_distance(y1, y2, x1, x2) \n",
    "            else:\n",
    "                break\n",
    "            if (z2-z1 > 0):\n",
    "                uphill+=z2-z1\n",
    "            elif (z2-z1<0):\n",
    "                downhill+=z2-z1\n",
    "            else:\n",
    "                continue\n",
    "        \n",
    "        row = {\"Stage\": stage_name}\n",
    "        row['Distance (km)'] = stage_distance\n",
    "        row['Uphill (m)'] = uphill\n",
    "        row['Downhill (m)'] = abs(downhill)\n",
    "        rows.append(row)\n",
    "    \n",
    "    df_stages = pd.DataFrame(rows)\n",
    "\n",
    "        \n",
    "            \n",
    "    return df_stages"
   ]
  },
  {
   "cell_type": "markdown",
   "id": "11b4df0d",
   "metadata": {},
   "source": [
    "Call this function for all routes and store in dictionary of routes summarised by stages"
   ]
  },
  {
   "cell_type": "code",
   "execution_count": 10,
   "id": "923537fe",
   "metadata": {},
   "outputs": [],
   "source": [
    "df_route_stages = {}\n",
    "for route in route_names.keys():\n",
    "    df_route_stage  = summarise_route(df_routes[route])\n",
    "    df_route_stages[route] = df_route_stage\n"
   ]
  },
  {
   "cell_type": "markdown",
   "id": "dc3a8f7b",
   "metadata": {},
   "source": [
    "Example"
   ]
  },
  {
   "cell_type": "code",
   "execution_count": 11,
   "id": "4b0b91a5",
   "metadata": {},
   "outputs": [
    {
     "data": {
      "text/html": [
       "<div>\n",
       "<style scoped>\n",
       "    .dataframe tbody tr th:only-of-type {\n",
       "        vertical-align: middle;\n",
       "    }\n",
       "\n",
       "    .dataframe tbody tr th {\n",
       "        vertical-align: top;\n",
       "    }\n",
       "\n",
       "    .dataframe thead th {\n",
       "        text-align: right;\n",
       "    }\n",
       "</style>\n",
       "<table border=\"1\" class=\"dataframe\">\n",
       "  <thead>\n",
       "    <tr style=\"text-align: right;\">\n",
       "      <th></th>\n",
       "      <th>Stage</th>\n",
       "      <th>Distance (km)</th>\n",
       "      <th>Uphill (m)</th>\n",
       "      <th>Downhill (m)</th>\n",
       "    </tr>\n",
       "  </thead>\n",
       "  <tbody>\n",
       "    <tr>\n",
       "      <th>0</th>\n",
       "      <td>Zell Am See – St Johann im Pongau</td>\n",
       "      <td>40.358921</td>\n",
       "      <td>282.4</td>\n",
       "      <td>468.7</td>\n",
       "    </tr>\n",
       "    <tr>\n",
       "      <th>1</th>\n",
       "      <td>St Johann im Pongau – Liezen</td>\n",
       "      <td>112.731161</td>\n",
       "      <td>656.4</td>\n",
       "      <td>587.0</td>\n",
       "    </tr>\n",
       "    <tr>\n",
       "      <th>2</th>\n",
       "      <td>Liezen – World Heritage Graz</td>\n",
       "      <td>162.373246</td>\n",
       "      <td>976.4</td>\n",
       "      <td>1265.6</td>\n",
       "    </tr>\n",
       "    <tr>\n",
       "      <th>3</th>\n",
       "      <td>World Heritage Graz – Szentgotthard</td>\n",
       "      <td>101.077394</td>\n",
       "      <td>343.7</td>\n",
       "      <td>465.8</td>\n",
       "    </tr>\n",
       "    <tr>\n",
       "      <th>4</th>\n",
       "      <td>Szentgotthard – Vasvar</td>\n",
       "      <td>68.036430</td>\n",
       "      <td>345.7</td>\n",
       "      <td>366.7</td>\n",
       "    </tr>\n",
       "    <tr>\n",
       "      <th>5</th>\n",
       "      <td>Vasvar – Keszthely</td>\n",
       "      <td>65.491548</td>\n",
       "      <td>334.5</td>\n",
       "      <td>410.3</td>\n",
       "    </tr>\n",
       "    <tr>\n",
       "      <th>6</th>\n",
       "      <td>Keszthely – Balatonfuzfo</td>\n",
       "      <td>91.181561</td>\n",
       "      <td>301.6</td>\n",
       "      <td>309.3</td>\n",
       "    </tr>\n",
       "    <tr>\n",
       "      <th>7</th>\n",
       "      <td>Balatonfuzfo – Velence</td>\n",
       "      <td>66.704054</td>\n",
       "      <td>263.2</td>\n",
       "      <td>270.3</td>\n",
       "    </tr>\n",
       "  </tbody>\n",
       "</table>\n",
       "</div>"
      ],
      "text/plain": [
       "                                   Stage  Distance (km)  Uphill (m)  \\\n",
       "0     Zell Am See – St Johann im Pongau       40.358921       282.4   \n",
       "1          St Johann im Pongau – Liezen      112.731161       656.4   \n",
       "2          Liezen – World Heritage Graz      162.373246       976.4   \n",
       "3   World Heritage Graz – Szentgotthard      101.077394       343.7   \n",
       "4                Szentgotthard – Vasvar       68.036430       345.7   \n",
       "5                    Vasvar – Keszthely       65.491548       334.5   \n",
       "6              Keszthely – Balatonfuzfo       91.181561       301.6   \n",
       "7                Balatonfuzfo – Velence       66.704054       263.2   \n",
       "\n",
       "   Downhill (m)  \n",
       "0         468.7  \n",
       "1         587.0  \n",
       "2        1265.6  \n",
       "3         465.8  \n",
       "4         366.7  \n",
       "5         410.3  \n",
       "6         309.3  \n",
       "7         270.3  "
      ]
     },
     "execution_count": 11,
     "metadata": {},
     "output_type": "execute_result"
    }
   ],
   "source": [
    "df_route_stages['ev14'].head(10)"
   ]
  },
  {
   "cell_type": "markdown",
   "id": "b763e09d",
   "metadata": {},
   "source": [
    "### 3. Longest and Hilliest Stages in a given route"
   ]
  },
  {
   "cell_type": "markdown",
   "id": "106bacc1",
   "metadata": {},
   "source": [
    "Define function that finds longest and hilliest stage for a given route"
   ]
  },
  {
   "cell_type": "code",
   "execution_count": 12,
   "id": "680f90d3",
   "metadata": {},
   "outputs": [],
   "source": [
    "def route_stage_results(df_route_summary):\n",
    "    #Longest Distance\n",
    "    col_idx_dist = df_route_summary['Distance (km)'].idxmax()\n",
    "    stage_longest = df_route_summary.iloc[col_idx_dist]['Stage']\n",
    "    \n",
    "    #Hilliest Stage\n",
    "    elevation_climb = df_route_summary['Uphill (m)']+ df_route_summary['Downhill (m)']\n",
    "    col_idx_hilliest = elevation_climb.idxmax()\n",
    "    stage_hilliest = df_route_summary.iloc[col_idx_dist]['Stage']\n",
    "    \n",
    "    return stage_longest,stage_hilliest\n"
   ]
  },
  {
   "cell_type": "markdown",
   "id": "2d4c95ba",
   "metadata": {},
   "source": [
    "#### 3.1 Longest stage in Eurovelo 6"
   ]
  },
  {
   "cell_type": "code",
   "execution_count": 13,
   "id": "1ac6207c",
   "metadata": {},
   "outputs": [
    {
     "name": "stdout",
     "output_type": "stream",
     "text": [
      "The longest stage on Eurovelo 6 was from  Tuttlingen  to  Ulm \n"
     ]
    }
   ],
   "source": [
    "ev6longest_stage,_ = route_stage_results(df_route_stages['ev6'])\n",
    "print('The longest stage on Eurovelo 6 was from %s to %s'%(ev6longest_stage.split(ev6longest_stage[12])[0],\\\n",
    "                                                           ev6longest_stage.split(ev6longest_stage[12])[1]))"
   ]
  },
  {
   "cell_type": "markdown",
   "id": "c8bd62d1",
   "metadata": {},
   "source": [
    "#### 3.2 What is the stage in EuroVelo 1 with the most uphill?\n",
    "\n"
   ]
  },
  {
   "cell_type": "code",
   "execution_count": 14,
   "id": "b5d169ef",
   "metadata": {},
   "outputs": [
    {
     "name": "stdout",
     "output_type": "stream",
     "text": [
      "The stage with the most uphill on Eurovelo 1 was from  Kilboghavn  to  Nesna \n"
     ]
    }
   ],
   "source": [
    "col_idx = df_route_stages['ev1']['Uphill (m)'].idxmax()\n",
    "most_uphill = df_route_stages['ev1'].iloc[col_idx]['Stage']\n",
    "print('The stage with the most uphill on Eurovelo 1 was from %s to %s'%(most_uphill.split(most_uphill[12])[0], \\\n",
    "                                                           most_uphill.split(most_uphill[12])[1]))"
   ]
  },
  {
   "cell_type": "markdown",
   "id": "aedf7f22",
   "metadata": {},
   "source": [
    "### 4. Sequence Stages defined by elevation gain"
   ]
  },
  {
   "cell_type": "markdown",
   "id": "e0e58d8a",
   "metadata": {},
   "source": [
    "Define function that finds n number of continuous flattest and hilliest stages in a given route "
   ]
  },
  {
   "cell_type": "code",
   "execution_count": 15,
   "id": "ed2a9690",
   "metadata": {},
   "outputs": [],
   "source": [
    "def HilliestandFlattest(df_route_summary,n):\n",
    "    #n is the number of stages the cyclist wishes to complete\n",
    "    elevation_climb = df_route_summary['Uphill (m)']\n",
    "    #use \"rolling\" method to roll through windows of n stages\n",
    "    continuous_stages = elevation_climb.rolling(n).sum()\n",
    "\n",
    "    hilly_idx = continuous_stages.idxmax()\n",
    "    hilliest_path_start = df_route_summary.iloc[hilly_idx-n+1]['Stage'].split('–')[0]\n",
    "    hilliest_path_end = df_route_summary.iloc[hilly_idx]['Stage'].split('–')[1]\n",
    "    hilliest_path = [hilliest_path_start,hilliest_path_end]\n",
    "    flat_idx = continuous_stages.idxmin()\n",
    "    flattest_path_start = df_route_summary.iloc[flat_idx-n+1]['Stage'].split('–')[0]\n",
    "    flattest_path_end = df_route_summary.iloc[flat_idx-n+1]['Stage'].split('–')[1]\n",
    "    flattest_path = [flattest_path_start,flattest_path_end]\n",
    "    \n",
    "    return hilliest_path,flattest_path\n",
    "        \n",
    "                    \n",
    "        "
   ]
  },
  {
   "cell_type": "markdown",
   "id": "dec2c238",
   "metadata": {},
   "source": [
    "#### 4.1. What are the three flattest contiguous stages in EuroVelo 2?"
   ]
  },
  {
   "cell_type": "code",
   "execution_count": 16,
   "id": "f4842019",
   "metadata": {},
   "outputs": [
    {
     "name": "stdout",
     "output_type": "stream",
     "text": [
      "The flattest path of 3 continuous stages in Eurovelo 2 begins at  Athlone  and ends at  Kinnegad \n"
     ]
    }
   ],
   "source": [
    "_,flattest_path_ev2 = HilliestandFlattest(df_route_stages['ev2'],3)\n",
    "\n",
    "print('The flattest path of 3 continuous stages in Eurovelo 2 begins at %s and ends at %s'%\\\n",
    "      (flattest_path_ev2[0],flattest_path_ev2[1]))"
   ]
  },
  {
   "cell_type": "markdown",
   "id": "56c15402",
   "metadata": {},
   "source": [
    "#### 4.2 Find the five hilliest (most uphill) contiguous stages in EuroVelo 1."
   ]
  },
  {
   "cell_type": "code",
   "execution_count": 17,
   "id": "c741871d",
   "metadata": {},
   "outputs": [
    {
     "name": "stdout",
     "output_type": "stream",
     "text": [
      "The most uphill path of 5 continuous stages in Eurovelo 1 begins at  Floro  and ends at  Lunde \n"
     ]
    }
   ],
   "source": [
    "hilliest_path_ev1,_ = HilliestandFlattest(df_route_stages['ev1'],5)\n",
    "print('The most uphill path of 5 continuous stages in Eurovelo 1 begins at %s and ends at %s' \\\n",
    "      %(hilliest_path_ev1[0],hilliest_path_ev1[1]))"
   ]
  },
  {
   "cell_type": "markdown",
   "id": "f4ee2552",
   "metadata": {},
   "source": [
    "## Task 3"
   ]
  },
  {
   "cell_type": "markdown",
   "id": "d2a6c707",
   "metadata": {},
   "source": [
    "Define API key and url prefix"
   ]
  },
  {
   "cell_type": "code",
   "execution_count": 18,
   "id": "f43f586d",
   "metadata": {},
   "outputs": [],
   "source": [
    "api_key = \""\n",
    "api_prefix = \"https://api.mapbox.com/directions/v5/mapbox/cycling/\""
   ]
  },
  {
   "cell_type": "markdown",
   "id": "9b37d021",
   "metadata": {},
   "source": [
    "Define function that returns a nested list of coordinates for every point in every stage in every route"
   ]
  },
  {
   "cell_type": "code",
   "execution_count": 19,
   "id": "7d8b1d29",
   "metadata": {},
   "outputs": [],
   "source": [
    "def route_stage_coord_list(df_route):\n",
    "    route_list = []\n",
    "    for stage_index in range(1,df_route.index.nunique()+1):\n",
    "        df_stage = df_route.loc[df_route.index==stage_index]\n",
    "        stage_list = []\n",
    "        for point_index, point in enumerate(df_stage.iterrows()):\n",
    "            lat = point[1]['latitude']\n",
    "            long = point[1]['longitude']\n",
    "            stage_list.append(str(long)+','+str(lat))\n",
    "        route_list.append(stage_list)\n",
    "    return route_list"
   ]
  },
  {
   "cell_type": "markdown",
   "id": "9f4ab066",
   "metadata": {},
   "source": [
    "Call this function for all routes"
   ]
  },
  {
   "cell_type": "code",
   "execution_count": 20,
   "id": "3f515335",
   "metadata": {},
   "outputs": [],
   "source": [
    "route_lists = {}\n",
    "for route in route_names.keys():\n",
    "    route_list  = route_stage_coord_list(df_routes[route])\n",
    "    route_lists[route] = route_list"
   ]
  },
  {
   "cell_type": "markdown",
   "id": "e350296b",
   "metadata": {},
   "source": [
    "#### Directions API has a max of 25 coordinates per call according to\n",
    "https://docs.mapbox.com/api/navigation/directions/\n",
    "\n",
    "Must compound calls for each stage into a maximum of 25 coordinates per call.\n",
    "\n"
   ]
  },
  {
   "cell_type": "markdown",
   "id": "daf14e78",
   "metadata": {},
   "source": [
    "Define function that finds distances given by MapBox API between stages in a route by using the \"cycling\" path defined by the MapBox API between every point in a stage"
   ]
  },
  {
   "cell_type": "code",
   "execution_count": 21,
   "id": "4082b96d",
   "metadata": {},
   "outputs": [],
   "source": [
    "def api_distancenew(route):\n",
    "    route_list = route_lists[route]\n",
    "    distances = []\n",
    "    for stage in route_list:\n",
    "        end = len(stage)\n",
    "        subsets = ceil(end/24)\n",
    "        stage_string = ''\n",
    "        stage_distance = 0\n",
    "        #if number of points in a stage is less than 25, do not have to split calls into subsets\n",
    "        if (end<25):\n",
    "            for point in range(0,end):\n",
    "                long = stage[point].split(',')[0]\n",
    "                lat = stage[point].split(',')[1]\n",
    "                if (point!=end-1):\n",
    "                    stage_string+=long+','+lat+';'\n",
    "                else:\n",
    "                    stage_string+=long+','+lat\n",
    "            url = api_prefix+stage_string+'?geometries=geojson'+api_key\n",
    "            try:\n",
    "                response = urllib.request.urlopen(url)\n",
    "               \n",
    "                raw_json = response.read().decode(\"utf-8\")\n",
    "                response.close()\n",
    "                data = json.loads(raw_json)\n",
    "                stage_distance = data['routes'][0]['distance']/1000\n",
    "            except ValueError:\n",
    "                print('Empty JSON returned')\n",
    "                continue\n",
    "            stage_string = ''\n",
    "        #if number of points in a stage is more than 25, must split points into subsets\n",
    "        else:\n",
    "            start = 0\n",
    "            ending = 24\n",
    "            #gather stage distance for sets of 25s in each stage\n",
    "            for i in range(1,subsets,1):\n",
    "                for point in range(start,ending):\n",
    "                    long = stage[point].split(',')[0]\n",
    "                    lat = stage[point].split(',')[1]\n",
    "                    if (point!=ending-1):\n",
    "                        stage_string+=long+','+lat+';'\n",
    "                    else:\n",
    "                        stage_string+=long+','+lat\n",
    "                \n",
    "                url = api_prefix+stage_string+'?geometries=geojson'+api_key\n",
    "                try:\n",
    "                    response = urllib.request.urlopen(url)\n",
    "                    raw_json = response.read().decode(\"utf-8\")\n",
    "                    response.close()\n",
    "                    data = json.loads(raw_json)\n",
    "                    stage_distance += data['routes'][0]['distance']/1000\n",
    "                except ValueError:\n",
    "                    print('Empty JSON returned')\n",
    "                    continue\n",
    "                stage_string = ''\n",
    "                start+=24\n",
    "                ending+=24\n",
    "            #reached last subset that has less than 25 points\n",
    "            if (end-start<2): #check there isnt just one point left\n",
    "                distances.append(stage_distance)\n",
    "                continue\n",
    "            for point in range(start-1,end):\n",
    "                long = stage[point].split(',')[0]\n",
    "                lat = stage[point].split(',')[1]\n",
    "                if (point!=end-1):\n",
    "                    stage_string+=long+','+lat+';'\n",
    "                else:#dont insert colon for last entry\n",
    "                    stage_string+=long+','+lat\n",
    "            url = api_prefix+stage_string+'?geometries=geojson'+api_key\n",
    "\n",
    "            try:\n",
    "                response = urllib.request.urlopen(url)\n",
    "                raw_json = response.read().decode(\"utf-8\")\n",
    "                response.close()\n",
    "                data = json.loads(raw_json)\n",
    "                stage_distance += data['routes'][0]['distance']/1000\n",
    "            except ValueError:\n",
    "                print('Empty JSON returned')\n",
    "                continue\n",
    "            distances.append(stage_distance)   \n",
    "    return distances"
   ]
  },
  {
   "cell_type": "markdown",
   "id": "731ae5bb",
   "metadata": {},
   "source": [
    "Call function for Eurovelo 14 route and add API distance to summarised route dataframe\n"
   ]
  },
  {
   "cell_type": "code",
   "execution_count": 22,
   "id": "077fc9ee",
   "metadata": {},
   "outputs": [],
   "source": [
    "distances = api_distancenew('ev14')\n",
    "df_route_stages['ev14']['API Distance (km)'] = distances"
   ]
  },
  {
   "cell_type": "code",
   "execution_count": 23,
   "id": "56e16800",
   "metadata": {},
   "outputs": [
    {
     "data": {
      "text/html": [
       "<div>\n",
       "<style scoped>\n",
       "    .dataframe tbody tr th:only-of-type {\n",
       "        vertical-align: middle;\n",
       "    }\n",
       "\n",
       "    .dataframe tbody tr th {\n",
       "        vertical-align: top;\n",
       "    }\n",
       "\n",
       "    .dataframe thead th {\n",
       "        text-align: right;\n",
       "    }\n",
       "</style>\n",
       "<table border=\"1\" class=\"dataframe\">\n",
       "  <thead>\n",
       "    <tr style=\"text-align: right;\">\n",
       "      <th></th>\n",
       "      <th>Stage</th>\n",
       "      <th>Distance (km)</th>\n",
       "      <th>Uphill (m)</th>\n",
       "      <th>Downhill (m)</th>\n",
       "      <th>API Distance (km)</th>\n",
       "    </tr>\n",
       "  </thead>\n",
       "  <tbody>\n",
       "    <tr>\n",
       "      <th>0</th>\n",
       "      <td>Zell Am See – St Johann im Pongau</td>\n",
       "      <td>40.358921</td>\n",
       "      <td>282.4</td>\n",
       "      <td>468.7</td>\n",
       "      <td>50.3337</td>\n",
       "    </tr>\n",
       "    <tr>\n",
       "      <th>1</th>\n",
       "      <td>St Johann im Pongau – Liezen</td>\n",
       "      <td>112.731161</td>\n",
       "      <td>656.4</td>\n",
       "      <td>587.0</td>\n",
       "      <td>117.0090</td>\n",
       "    </tr>\n",
       "    <tr>\n",
       "      <th>2</th>\n",
       "      <td>Liezen – World Heritage Graz</td>\n",
       "      <td>162.373246</td>\n",
       "      <td>976.4</td>\n",
       "      <td>1265.6</td>\n",
       "      <td>167.2598</td>\n",
       "    </tr>\n",
       "    <tr>\n",
       "      <th>3</th>\n",
       "      <td>World Heritage Graz – Szentgotthard</td>\n",
       "      <td>101.077394</td>\n",
       "      <td>343.7</td>\n",
       "      <td>465.8</td>\n",
       "      <td>103.9786</td>\n",
       "    </tr>\n",
       "    <tr>\n",
       "      <th>4</th>\n",
       "      <td>Szentgotthard – Vasvar</td>\n",
       "      <td>68.036430</td>\n",
       "      <td>345.7</td>\n",
       "      <td>366.7</td>\n",
       "      <td>70.0872</td>\n",
       "    </tr>\n",
       "    <tr>\n",
       "      <th>5</th>\n",
       "      <td>Vasvar – Keszthely</td>\n",
       "      <td>65.491548</td>\n",
       "      <td>334.5</td>\n",
       "      <td>410.3</td>\n",
       "      <td>65.9914</td>\n",
       "    </tr>\n",
       "    <tr>\n",
       "      <th>6</th>\n",
       "      <td>Keszthely – Balatonfuzfo</td>\n",
       "      <td>91.181561</td>\n",
       "      <td>301.6</td>\n",
       "      <td>309.3</td>\n",
       "      <td>91.4937</td>\n",
       "    </tr>\n",
       "    <tr>\n",
       "      <th>7</th>\n",
       "      <td>Balatonfuzfo – Velence</td>\n",
       "      <td>66.704054</td>\n",
       "      <td>263.2</td>\n",
       "      <td>270.3</td>\n",
       "      <td>67.4033</td>\n",
       "    </tr>\n",
       "  </tbody>\n",
       "</table>\n",
       "</div>"
      ],
      "text/plain": [
       "                                   Stage  Distance (km)  Uphill (m)  \\\n",
       "0     Zell Am See – St Johann im Pongau       40.358921       282.4   \n",
       "1          St Johann im Pongau – Liezen      112.731161       656.4   \n",
       "2          Liezen – World Heritage Graz      162.373246       976.4   \n",
       "3   World Heritage Graz – Szentgotthard      101.077394       343.7   \n",
       "4                Szentgotthard – Vasvar       68.036430       345.7   \n",
       "5                    Vasvar – Keszthely       65.491548       334.5   \n",
       "6              Keszthely – Balatonfuzfo       91.181561       301.6   \n",
       "7                Balatonfuzfo – Velence       66.704054       263.2   \n",
       "\n",
       "   Downhill (m)  API Distance (km)  \n",
       "0         468.7            50.3337  \n",
       "1         587.0           117.0090  \n",
       "2        1265.6           167.2598  \n",
       "3         465.8           103.9786  \n",
       "4         366.7            70.0872  \n",
       "5         410.3            65.9914  \n",
       "6         309.3            91.4937  \n",
       "7         270.3            67.4033  "
      ]
     },
     "execution_count": 23,
     "metadata": {},
     "output_type": "execute_result"
    }
   ],
   "source": [
    "df_route_stages['ev14']"
   ]
  },
  {
   "cell_type": "markdown",
   "id": "aef40531",
   "metadata": {},
   "source": [
    "#### GPX Distance and API Distance Discrepancy"
   ]
  },
  {
   "cell_type": "markdown",
   "id": "d80708ac",
   "metadata": {},
   "source": [
    "Analyse relative error for each stage "
   ]
  },
  {
   "cell_type": "code",
   "execution_count": 24,
   "id": "b6a76b2a",
   "metadata": {},
   "outputs": [],
   "source": [
    "errors = (df_route_stages['ev14']['API Distance (km)']-df_route_stages['ev14']['Distance (km)'])*100/\\\n",
    "        df_route_stages['ev14']['API Distance (km)']\n",
    "df_route_stages['ev14']['Relative GPX error (%)'] = errors"
   ]
  },
  {
   "cell_type": "code",
   "execution_count": 25,
   "id": "b8bcd1b8",
   "metadata": {},
   "outputs": [
    {
     "data": {
      "text/html": [
       "<div>\n",
       "<style scoped>\n",
       "    .dataframe tbody tr th:only-of-type {\n",
       "        vertical-align: middle;\n",
       "    }\n",
       "\n",
       "    .dataframe tbody tr th {\n",
       "        vertical-align: top;\n",
       "    }\n",
       "\n",
       "    .dataframe thead th {\n",
       "        text-align: right;\n",
       "    }\n",
       "</style>\n",
       "<table border=\"1\" class=\"dataframe\">\n",
       "  <thead>\n",
       "    <tr style=\"text-align: right;\">\n",
       "      <th></th>\n",
       "      <th>Stage</th>\n",
       "      <th>Distance (km)</th>\n",
       "      <th>Uphill (m)</th>\n",
       "      <th>Downhill (m)</th>\n",
       "      <th>API Distance (km)</th>\n",
       "      <th>Relative GPX error (%)</th>\n",
       "    </tr>\n",
       "  </thead>\n",
       "  <tbody>\n",
       "    <tr>\n",
       "      <th>0</th>\n",
       "      <td>Zell Am See – St Johann im Pongau</td>\n",
       "      <td>40.358921</td>\n",
       "      <td>282.4</td>\n",
       "      <td>468.7</td>\n",
       "      <td>50.3337</td>\n",
       "      <td>19.817298</td>\n",
       "    </tr>\n",
       "    <tr>\n",
       "      <th>1</th>\n",
       "      <td>St Johann im Pongau – Liezen</td>\n",
       "      <td>112.731161</td>\n",
       "      <td>656.4</td>\n",
       "      <td>587.0</td>\n",
       "      <td>117.0090</td>\n",
       "      <td>3.655992</td>\n",
       "    </tr>\n",
       "    <tr>\n",
       "      <th>2</th>\n",
       "      <td>Liezen – World Heritage Graz</td>\n",
       "      <td>162.373246</td>\n",
       "      <td>976.4</td>\n",
       "      <td>1265.6</td>\n",
       "      <td>167.2598</td>\n",
       "      <td>2.921535</td>\n",
       "    </tr>\n",
       "    <tr>\n",
       "      <th>3</th>\n",
       "      <td>World Heritage Graz – Szentgotthard</td>\n",
       "      <td>101.077394</td>\n",
       "      <td>343.7</td>\n",
       "      <td>465.8</td>\n",
       "      <td>103.9786</td>\n",
       "      <td>2.790195</td>\n",
       "    </tr>\n",
       "    <tr>\n",
       "      <th>4</th>\n",
       "      <td>Szentgotthard – Vasvar</td>\n",
       "      <td>68.036430</td>\n",
       "      <td>345.7</td>\n",
       "      <td>366.7</td>\n",
       "      <td>70.0872</td>\n",
       "      <td>2.926026</td>\n",
       "    </tr>\n",
       "    <tr>\n",
       "      <th>5</th>\n",
       "      <td>Vasvar – Keszthely</td>\n",
       "      <td>65.491548</td>\n",
       "      <td>334.5</td>\n",
       "      <td>410.3</td>\n",
       "      <td>65.9914</td>\n",
       "      <td>0.757450</td>\n",
       "    </tr>\n",
       "    <tr>\n",
       "      <th>6</th>\n",
       "      <td>Keszthely – Balatonfuzfo</td>\n",
       "      <td>91.181561</td>\n",
       "      <td>301.6</td>\n",
       "      <td>309.3</td>\n",
       "      <td>91.4937</td>\n",
       "      <td>0.341159</td>\n",
       "    </tr>\n",
       "    <tr>\n",
       "      <th>7</th>\n",
       "      <td>Balatonfuzfo – Velence</td>\n",
       "      <td>66.704054</td>\n",
       "      <td>263.2</td>\n",
       "      <td>270.3</td>\n",
       "      <td>67.4033</td>\n",
       "      <td>1.037406</td>\n",
       "    </tr>\n",
       "  </tbody>\n",
       "</table>\n",
       "</div>"
      ],
      "text/plain": [
       "                                   Stage  Distance (km)  Uphill (m)  \\\n",
       "0     Zell Am See – St Johann im Pongau       40.358921       282.4   \n",
       "1          St Johann im Pongau – Liezen      112.731161       656.4   \n",
       "2          Liezen – World Heritage Graz      162.373246       976.4   \n",
       "3   World Heritage Graz – Szentgotthard      101.077394       343.7   \n",
       "4                Szentgotthard – Vasvar       68.036430       345.7   \n",
       "5                    Vasvar – Keszthely       65.491548       334.5   \n",
       "6              Keszthely – Balatonfuzfo       91.181561       301.6   \n",
       "7                Balatonfuzfo – Velence       66.704054       263.2   \n",
       "\n",
       "   Downhill (m)  API Distance (km)  Relative GPX error (%)  \n",
       "0         468.7            50.3337               19.817298  \n",
       "1         587.0           117.0090                3.655992  \n",
       "2        1265.6           167.2598                2.921535  \n",
       "3         465.8           103.9786                2.790195  \n",
       "4         366.7            70.0872                2.926026  \n",
       "5         410.3            65.9914                0.757450  \n",
       "6         309.3            91.4937                0.341159  \n",
       "7         270.3            67.4033                1.037406  "
      ]
     },
     "execution_count": 25,
     "metadata": {},
     "output_type": "execute_result"
    }
   ],
   "source": [
    "df_route_stages['ev14']"
   ]
  },
  {
   "cell_type": "markdown",
   "id": "a5c33145",
   "metadata": {},
   "source": [
    "The first stage has the highest relative error suggesting that the path taken by the cyclists may zigzag. Stages with lower relative erros will have paths that are generally in a straight line. All the GPX distances undestimate the error as they are essentially calculating the shortest distance between each point which is almost never accessible by paths"
   ]
  },
  {
   "cell_type": "markdown",
   "id": "188d8107",
   "metadata": {},
   "source": [
    "Most of the error discrepancies in distance estimates are on the GPX side as the cyclist is almost never going to cycle in an exact straight line distance between points. \n",
    "\n",
    "However the MapBox API simply returns the shortest cycling route between the list of coordinates. This may not be the exact path taken by the cyclists in the actual route which could cause some errors. The risk of this could be minimises by providing as many coordinates for points as possible thereby minimising the chance that there is more than one cyclable route from point to point.\n",
    "\n",
    "The Eurovelo 14 route does not return empty data for any of the calls made but there could be some error in its distance estimates due to satellite information, or not exact mapping of the physical paths."
   ]
  }
 ],
 "metadata": {
  "kernelspec": {
   "display_name": "Python 3 (ipykernel)",
   "language": "python",
   "name": "python3"
  },
  "language_info": {
   "codemirror_mode": {
    "name": "ipython",
    "version": 3
   },
   "file_extension": ".py",
   "mimetype": "text/x-python",
   "name": "python",
   "nbconvert_exporter": "python",
   "pygments_lexer": "ipython3",
   "version": "3.9.12"
  }
 },
 "nbformat": 4,
 "nbformat_minor": 5
}
